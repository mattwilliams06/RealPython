{
 "cells": [
  {
   "cell_type": "code",
   "execution_count": 52,
   "metadata": {},
   "outputs": [],
   "source": [
    "import pandas as pd\n",
    "import numpy as np\n",
    "import requests"
   ]
  },
  {
   "cell_type": "code",
   "execution_count": 2,
   "metadata": {},
   "outputs": [],
   "source": [
    "def get_dataset(url, fname, ext):\n",
    "    target_path = f'{fname}.{ext}'\n",
    "    response = requests.get(url)\n",
    "    response.raise_for_status()\n",
    "    with open(target_path, 'wb') as f:\n",
    "        f.write(response.content)\n",
    "    print('Download ready.')"
   ]
  },
  {
   "cell_type": "code",
   "execution_count": 3,
   "metadata": {},
   "outputs": [
    {
     "name": "stdout",
     "output_type": "stream",
     "text": [
      "Download ready.\n"
     ]
    }
   ],
   "source": [
    "url = 'https://raw.githubusercontent.com/realpython/materials/master/pandas-fast-flexible-intuitive/tutorial/demand_profile.csv'\n",
    "get_dataset(url, 'electricity', 'csv')"
   ]
  },
  {
   "cell_type": "code",
   "execution_count": 4,
   "metadata": {},
   "outputs": [
    {
     "data": {
      "text/plain": [
       "'1.0.5'"
      ]
     },
     "execution_count": 4,
     "metadata": {},
     "output_type": "execute_result"
    }
   ],
   "source": [
    "pd.__version__"
   ]
  },
  {
   "cell_type": "code",
   "execution_count": 5,
   "metadata": {},
   "outputs": [
    {
     "data": {
      "text/html": [
       "<div>\n",
       "<style scoped>\n",
       "    .dataframe tbody tr th:only-of-type {\n",
       "        vertical-align: middle;\n",
       "    }\n",
       "\n",
       "    .dataframe tbody tr th {\n",
       "        vertical-align: top;\n",
       "    }\n",
       "\n",
       "    .dataframe thead th {\n",
       "        text-align: right;\n",
       "    }\n",
       "</style>\n",
       "<table border=\"1\" class=\"dataframe\">\n",
       "  <thead>\n",
       "    <tr style=\"text-align: right;\">\n",
       "      <th></th>\n",
       "      <th>date_time</th>\n",
       "      <th>energy_kwh</th>\n",
       "    </tr>\n",
       "  </thead>\n",
       "  <tbody>\n",
       "    <tr>\n",
       "      <th>0</th>\n",
       "      <td>1/1/13 0:00</td>\n",
       "      <td>0.586</td>\n",
       "    </tr>\n",
       "    <tr>\n",
       "      <th>1</th>\n",
       "      <td>1/1/13 1:00</td>\n",
       "      <td>0.580</td>\n",
       "    </tr>\n",
       "    <tr>\n",
       "      <th>2</th>\n",
       "      <td>1/1/13 2:00</td>\n",
       "      <td>0.572</td>\n",
       "    </tr>\n",
       "    <tr>\n",
       "      <th>3</th>\n",
       "      <td>1/1/13 3:00</td>\n",
       "      <td>0.596</td>\n",
       "    </tr>\n",
       "    <tr>\n",
       "      <th>4</th>\n",
       "      <td>1/1/13 4:00</td>\n",
       "      <td>0.592</td>\n",
       "    </tr>\n",
       "  </tbody>\n",
       "</table>\n",
       "</div>"
      ],
      "text/plain": [
       "     date_time  energy_kwh\n",
       "0  1/1/13 0:00       0.586\n",
       "1  1/1/13 1:00       0.580\n",
       "2  1/1/13 2:00       0.572\n",
       "3  1/1/13 3:00       0.596\n",
       "4  1/1/13 4:00       0.592"
      ]
     },
     "execution_count": 5,
     "metadata": {},
     "output_type": "execute_result"
    }
   ],
   "source": [
    "df = pd.read_csv('electricity.csv')\n",
    "df.head()"
   ]
  },
  {
   "cell_type": "code",
   "execution_count": 6,
   "metadata": {},
   "outputs": [
    {
     "data": {
      "text/plain": [
       "date_time      object\n",
       "energy_kwh    float64\n",
       "dtype: object"
      ]
     },
     "execution_count": 6,
     "metadata": {},
     "output_type": "execute_result"
    }
   ],
   "source": [
    "df.dtypes"
   ]
  },
  {
   "cell_type": "markdown",
   "metadata": {},
   "source": [
    "The first issue we run into is that the DataFrame created the times as the generic 'object' data type. "
   ]
  },
  {
   "cell_type": "code",
   "execution_count": 7,
   "metadata": {},
   "outputs": [
    {
     "data": {
      "text/plain": [
       "str"
      ]
     },
     "execution_count": 7,
     "metadata": {},
     "output_type": "execute_result"
    }
   ],
   "source": [
    "type(df.iat[0,0])"
   ]
  },
  {
   "cell_type": "code",
   "execution_count": 8,
   "metadata": {},
   "outputs": [
    {
     "data": {
      "text/plain": [
       "dtype('<M8[ns]')"
      ]
     },
     "execution_count": 8,
     "metadata": {},
     "output_type": "execute_result"
    }
   ],
   "source": [
    "df['date_time'] = pd.to_datetime(df['date_time'])\n",
    "df['date_time'].dtype"
   ]
  },
  {
   "cell_type": "code",
   "execution_count": 9,
   "metadata": {},
   "outputs": [
    {
     "data": {
      "text/html": [
       "<div>\n",
       "<style scoped>\n",
       "    .dataframe tbody tr th:only-of-type {\n",
       "        vertical-align: middle;\n",
       "    }\n",
       "\n",
       "    .dataframe tbody tr th {\n",
       "        vertical-align: top;\n",
       "    }\n",
       "\n",
       "    .dataframe thead th {\n",
       "        text-align: right;\n",
       "    }\n",
       "</style>\n",
       "<table border=\"1\" class=\"dataframe\">\n",
       "  <thead>\n",
       "    <tr style=\"text-align: right;\">\n",
       "      <th></th>\n",
       "      <th>date_time</th>\n",
       "      <th>energy_kwh</th>\n",
       "    </tr>\n",
       "  </thead>\n",
       "  <tbody>\n",
       "    <tr>\n",
       "      <th>0</th>\n",
       "      <td>2013-01-01 00:00:00</td>\n",
       "      <td>0.586</td>\n",
       "    </tr>\n",
       "    <tr>\n",
       "      <th>1</th>\n",
       "      <td>2013-01-01 01:00:00</td>\n",
       "      <td>0.580</td>\n",
       "    </tr>\n",
       "    <tr>\n",
       "      <th>2</th>\n",
       "      <td>2013-01-01 02:00:00</td>\n",
       "      <td>0.572</td>\n",
       "    </tr>\n",
       "    <tr>\n",
       "      <th>3</th>\n",
       "      <td>2013-01-01 03:00:00</td>\n",
       "      <td>0.596</td>\n",
       "    </tr>\n",
       "    <tr>\n",
       "      <th>4</th>\n",
       "      <td>2013-01-01 04:00:00</td>\n",
       "      <td>0.592</td>\n",
       "    </tr>\n",
       "  </tbody>\n",
       "</table>\n",
       "</div>"
      ],
      "text/plain": [
       "            date_time  energy_kwh\n",
       "0 2013-01-01 00:00:00       0.586\n",
       "1 2013-01-01 01:00:00       0.580\n",
       "2 2013-01-01 02:00:00       0.572\n",
       "3 2013-01-01 03:00:00       0.596\n",
       "4 2013-01-01 04:00:00       0.592"
      ]
     },
     "execution_count": 9,
     "metadata": {},
     "output_type": "execute_result"
    }
   ],
   "source": [
    "df.head()"
   ]
  },
  {
   "cell_type": "code",
   "execution_count": 14,
   "metadata": {},
   "outputs": [],
   "source": [
    "@timeit(repeat=3, number=10)\n",
    "def convert(df, column_name):\n",
    "    return pd.to_datetime(df[column_name])"
   ]
  },
  {
   "cell_type": "code",
   "execution_count": 15,
   "metadata": {},
   "outputs": [],
   "source": [
    "df = pd.read_csv('electricity.csv')"
   ]
  },
  {
   "cell_type": "code",
   "execution_count": 16,
   "metadata": {},
   "outputs": [
    {
     "name": "stdout",
     "output_type": "stream",
     "text": [
      "Best of 3 trials with 10 function calls per trial:\n",
      "Function `convert` ran in average of 0.620 seconds.\n",
      "\n"
     ]
    }
   ],
   "source": [
    "df['date_time'] = convert(df, 'date_time')"
   ]
  },
  {
   "cell_type": "markdown",
   "metadata": {},
   "source": [
    "This can be faster than waiting 0.62 seconds for about 8000 lines of data to be converted. Instead, we'll tell the convert function what format we want the date to be returned as."
   ]
  },
  {
   "cell_type": "code",
   "execution_count": 27,
   "metadata": {},
   "outputs": [],
   "source": [
    "@timeit(repeat=3, number=100)\n",
    "def convert_with_format(df, column_name):\n",
    "    return pd.to_datetime(df[column_name],\n",
    "                         format='%d/%m/%y %H:%M')"
   ]
  },
  {
   "cell_type": "code",
   "execution_count": 28,
   "metadata": {},
   "outputs": [
    {
     "name": "stdout",
     "output_type": "stream",
     "text": [
      "Best of 3 trials with 100 function calls per trial:\n",
      "Function `convert_with_format` ran in average of 0.019 seconds.\n",
      "\n"
     ]
    }
   ],
   "source": [
    "df = pd.read_csv('electricity.csv')\n",
    "df['date_time'] = convert_with_format(df, 'date_time')"
   ]
  },
  {
   "cell_type": "markdown",
   "metadata": {},
   "source": [
    "Formatting sped up the operation by over 32 times.\n",
    "\n",
    "# Simple Looping\n",
    "\n",
    "We want to calculate the electricity cost, and the cost varies throughout the day. The non-Pythonic way to perform this calculation would be to write a loop."
   ]
  },
  {
   "cell_type": "code",
   "execution_count": 29,
   "metadata": {},
   "outputs": [],
   "source": [
    "def apply_tariff(kwh, hour):\n",
    "    if 0 <= hour < 7:\n",
    "        rate = 12\n",
    "    elif 7 <= hour < 17:\n",
    "        rate = 20\n",
    "    elif 17 <= hour < 24:\n",
    "        rate = 28\n",
    "    else:\n",
    "        raise ValueError(f'Invalid hour: {hour}')"
   ]
  },
  {
   "cell_type": "code",
   "execution_count": 32,
   "metadata": {},
   "outputs": [],
   "source": [
    "# Non-Pythonic version\n",
    "@timeit(repeat=3, number=100)\n",
    "def apply_tariff_loop(df):\n",
    "    energy_cost_list = []\n",
    "    for i in range(len(df)):\n",
    "        energy_used = df.iloc[i]['energy_kwh']\n",
    "        hour = df.iloc[i]['date_time'].hour\n",
    "        energy_cost = apply_tariff(energy_used, hour)\n",
    "        energy_cost_list.append(energy_cost)\n",
    "    df['cost_cents'] = energy_cost_list"
   ]
  },
  {
   "cell_type": "markdown",
   "metadata": {},
   "source": [
    "This would take too long to run, so I won't call it.\n",
    "\n",
    "## Looping with ```itertuples()``` and ```iterrows()```\n",
    "\n",
    "These two functions are generators that yield one row at a time. ```itertuples()``` yields a tuple with the index as the first entry."
   ]
  },
  {
   "cell_type": "code",
   "execution_count": 36,
   "metadata": {},
   "outputs": [],
   "source": [
    "@timeit(repeat=3, number=100)\n",
    "def apply_tariff_iterrows(df):\n",
    "    energy_cost_list = []\n",
    "    for index, row in df.iterrows():\n",
    "        energy_used = row['energy_kwh']\n",
    "        hour = row['date_time'].hour\n",
    "        energy_cost = apply_tariff(energy_used, hour)\n",
    "        energy_cost_list.append(energy_cost)\n",
    "    df['cost_cents'] = energy_cost_list"
   ]
  },
  {
   "cell_type": "code",
   "execution_count": 37,
   "metadata": {},
   "outputs": [
    {
     "name": "stdout",
     "output_type": "stream",
     "text": [
      "Best of 3 trials with 100 function calls per trial:\n",
      "Function `apply_tariff_iterrows` ran in average of 0.722 seconds.\n",
      "\n"
     ]
    }
   ],
   "source": [
    "apply_tariff_iterrows(df)"
   ]
  },
  {
   "cell_type": "markdown",
   "metadata": {},
   "source": [
    "This is much faster, but there's more we can do.\n",
    "\n",
    "## Using Panda's ```apply()``` method"
   ]
  },
  {
   "cell_type": "code",
   "execution_count": 38,
   "metadata": {},
   "outputs": [],
   "source": [
    "@timeit(repeat=3, number=100)\n",
    "def apply_tariff_withapply(df):\n",
    "    df['cost_cents'] = df.apply(\n",
    "        lambda row: apply_tariff(\n",
    "            kwh=row['energy_kwh'],\n",
    "            hour=row['date_time'].hour),\n",
    "        axis=1)"
   ]
  },
  {
   "cell_type": "code",
   "execution_count": 39,
   "metadata": {},
   "outputs": [
    {
     "name": "stdout",
     "output_type": "stream",
     "text": [
      "Best of 3 trials with 100 function calls per trial:\n",
      "Function `apply_tariff_withapply` ran in average of 0.198 seconds.\n",
      "\n"
     ]
    }
   ],
   "source": [
    "apply_tariff_withapply(df)"
   ]
  },
  {
   "cell_type": "markdown",
   "metadata": {},
   "source": [
    "## Using vectorized operations with ```isin()```"
   ]
  },
  {
   "cell_type": "code",
   "execution_count": 44,
   "metadata": {},
   "outputs": [],
   "source": [
    "df.set_index('date_time', inplace=True)\n",
    "@timeit(repeat=3, number=100)\n",
    "def apply_tariff_isin(df):\n",
    "    # Define hour range Boolean arrays\n",
    "    peak_hours = df.index.hour.isin(range(17, 24))\n",
    "    shoulder_hours = df.index.hour.isin(range(7,17))\n",
    "    off_peak_hours = df.index.hour.isin(range(0,7))\n",
    "    \n",
    "    # Apply tariffs to hour ranges\n",
    "    df.loc[peak_hours, 'cost_cents'] = df.loc[peak_hours, 'energy_kwh'] * 28\n",
    "    df.loc[shoulder_hours, 'cost_cents'] = df.loc[shoulder_hours, 'energy_kwh'] * 20\n",
    "    df.loc[off_peak_hours, 'cost_cents'] = df.loc[off_peak_hours, 'energy_kwh'] * 12"
   ]
  },
  {
   "cell_type": "code",
   "execution_count": 45,
   "metadata": {},
   "outputs": [
    {
     "name": "stdout",
     "output_type": "stream",
     "text": [
      "Best of 3 trials with 100 function calls per trial:\n",
      "Function `apply_tariff_isin` ran in average of 0.004 seconds.\n",
      "\n"
     ]
    }
   ],
   "source": [
    "apply_tariff_isin(df)"
   ]
  },
  {
   "cell_type": "markdown",
   "metadata": {},
   "source": [
    "Much much faster. Now, there are no conditional statements for the code to review. The Boolean array results in a vectorized operation, as does the multiplication of the energy consumption by the tariff.\n",
    "\n",
    "## Using Panda's ```cut()``` method"
   ]
  },
  {
   "cell_type": "code",
   "execution_count": 50,
   "metadata": {},
   "outputs": [],
   "source": [
    "@timeit(repeat=3, number=100)\n",
    "def apply_tariff_cut(df):\n",
    "    cents_per_kwh = pd.cut(x=df.index.hour,\n",
    "                          bins=[0, 7, 17, 24],\n",
    "                          include_lowest=True,\n",
    "                          labels=[12, 20, 28]).astype(int)\n",
    "    df['cost_cents'] = cents_per_kwh * df['energy_kwh']"
   ]
  },
  {
   "cell_type": "code",
   "execution_count": 51,
   "metadata": {},
   "outputs": [
    {
     "name": "stdout",
     "output_type": "stream",
     "text": [
      "Best of 3 trials with 100 function calls per trial:\n",
      "Function `apply_tariff_cut` ran in average of 0.001 seconds.\n",
      "\n"
     ]
    }
   ],
   "source": [
    "apply_tariff_cut(df)"
   ]
  },
  {
   "cell_type": "markdown",
   "metadata": {},
   "source": [
    "## Using NumPy"
   ]
  },
  {
   "cell_type": "code",
   "execution_count": 53,
   "metadata": {},
   "outputs": [],
   "source": [
    "@timeit(repeat=3, number=100)\n",
    "def apply_tariff_digitize(df):\n",
    "    prices = np.array([12, 20, 28])\n",
    "    bins = np.digitize(df.index.hour.values, bins=[7, 17, 24])\n",
    "    df['cost_cents'] = prices[bins] * df['energy_kwh'].values"
   ]
  },
  {
   "cell_type": "code",
   "execution_count": 54,
   "metadata": {},
   "outputs": [
    {
     "name": "stdout",
     "output_type": "stream",
     "text": [
      "Best of 3 trials with 100 function calls per trial:\n",
      "Function `apply_tariff_digitize` ran in average of 0.000 seconds.\n",
      "\n"
     ]
    }
   ],
   "source": [
    "apply_tariff_digitize(df)"
   ]
  },
  {
   "cell_type": "code",
   "execution_count": 59,
   "metadata": {},
   "outputs": [
    {
     "data": {
      "text/plain": [
       "array([0, 1, 2])"
      ]
     },
     "execution_count": 59,
     "metadata": {},
     "output_type": "execute_result"
    }
   ],
   "source": [
    "bins = np.digitize(df.index.hour.values, bins=[7, 17, 24])\n",
    "np.unique(bins)"
   ]
  },
  {
   "cell_type": "markdown",
   "metadata": {},
   "source": [
    "# Saving Preprocessed Data in HDF5\n",
    "\n",
    "Just like saving pretrained machine learning models, it would be inconvenient to have to reprocess the Pandas dataframe each time you wanted to use it. The datetime conversion can take a significant amount of time, for instance. If you saved is as a CSV, the conversion would need to occur every time. HDF5 formatting prevents this."
   ]
  },
  {
   "cell_type": "code",
   "execution_count": 60,
   "metadata": {},
   "outputs": [],
   "source": [
    "# Create a storage object with filename 'processed_data'\n",
    "data_store = pd.HDFStore('processed_data.h5')\n",
    "\n",
    "# Put dataframe into the object setting the key as 'preprocessed_df'\n",
    "data_store['preprocessed_df'] = df\n",
    "data_store.close()"
   ]
  },
  {
   "cell_type": "markdown",
   "metadata": {},
   "source": [
    "Now, the dataframe does not need to be reprocessed if the notebook kernel is shutdown or is the computer is rebooted."
   ]
  },
  {
   "cell_type": "code",
   "execution_count": 61,
   "metadata": {},
   "outputs": [],
   "source": [
    "# Access the data store\n",
    "data_store = pd.HDFStore('processed_data.h5')\n",
    "\n",
    "preprocessed_df = data_store['preprocessed_df']\n",
    "data_store.close()"
   ]
  },
  {
   "cell_type": "code",
   "execution_count": 62,
   "metadata": {},
   "outputs": [
    {
     "data": {
      "text/plain": [
       "energy_kwh    float64\n",
       "cost_cents    float64\n",
       "dtype: object"
      ]
     },
     "execution_count": 62,
     "metadata": {},
     "output_type": "execute_result"
    }
   ],
   "source": [
    "preprocessed_df.dtypes"
   ]
  },
  {
   "cell_type": "code",
   "execution_count": 13,
   "metadata": {},
   "outputs": [],
   "source": [
    "import functools\n",
    "import gc\n",
    "import itertools\n",
    "import sys\n",
    "from timeit import default_timer as _timer\n",
    "\n",
    "\n",
    "def timeit(_func=None, *, repeat=3, number=1000, file=sys.stdout):\n",
    "    \"\"\"Decorator: prints time from best of `repeat` trials.\n",
    "    Mimics `timeit.repeat()`, but avg. time is printed.\n",
    "    Returns function result and prints time.\n",
    "    You can decorate with or without parentheses, as in\n",
    "    Python's @dataclass class decorator.\n",
    "    kwargs are passed to `print()`.\n",
    "    >>> @timeit\n",
    "    ... def f():\n",
    "    ...     return \"-\".join(str(n) for n in range(100))\n",
    "    ...\n",
    "    >>> @timeit(number=100000)\n",
    "    ... def g():\n",
    "    ...     return \"-\".join(str(n) for n in range(10))\n",
    "    ...\n",
    "    \"\"\"\n",
    "\n",
    "    _repeat = functools.partial(itertools.repeat, None)\n",
    "\n",
    "    def wrap(func):\n",
    "        @functools.wraps(func)\n",
    "        def _timeit(*args, **kwargs):\n",
    "            # Temporarily turn off garbage collection during the timing.\n",
    "            # Makes independent timings more comparable.\n",
    "            # If it was originally enabled, switch it back on afterwards.\n",
    "            gcold = gc.isenabled()\n",
    "            gc.disable()\n",
    "\n",
    "            try:\n",
    "                # Outer loop - the number of repeats.\n",
    "                trials = []\n",
    "                for _ in _repeat(repeat):\n",
    "                    # Inner loop - the number of calls within each repeat.\n",
    "                    total = 0\n",
    "                    for _ in _repeat(number):\n",
    "                        start = _timer()\n",
    "                        result = func(*args, **kwargs)\n",
    "                        end = _timer()\n",
    "                        total += end - start\n",
    "                    trials.append(total)\n",
    "\n",
    "                # We want the *average time* from the *best* trial.\n",
    "                # For more on this methodology, see the docs for\n",
    "                # Python's `timeit` module.\n",
    "                #\n",
    "                # \"In a typical case, the lowest value gives a lower bound\n",
    "                # for how fast your machine can run the given code snippet;\n",
    "                # higher values in the result vector are typically not\n",
    "                # caused by variability in Python’s speed, but by other\n",
    "                # processes interfering with your timing accuracy.\"\n",
    "                best = min(trials) / number\n",
    "                print(\n",
    "                    \"Best of {} trials with {} function\"\n",
    "                    \" calls per trial:\".format(repeat, number)\n",
    "                )\n",
    "                print(\n",
    "                    \"Function `{}` ran in average\"\n",
    "                    \" of {:0.3f} seconds.\".format(func.__name__, best),\n",
    "                    end=\"\\n\\n\",\n",
    "                    file=file,\n",
    "                )\n",
    "            finally:\n",
    "                if gcold:\n",
    "                    gc.enable()\n",
    "            # Result is returned *only once*\n",
    "            return result\n",
    "\n",
    "        return _timeit\n",
    "\n",
    "    # Syntax trick from Python @dataclass\n",
    "    if _func is None:\n",
    "        return wrap\n",
    "    else:\n",
    "        return wrap(_func)"
   ]
  },
  {
   "cell_type": "code",
   "execution_count": null,
   "metadata": {},
   "outputs": [],
   "source": []
  }
 ],
 "metadata": {
  "kernelspec": {
   "display_name": "Python 3",
   "language": "python",
   "name": "python3"
  },
  "language_info": {
   "codemirror_mode": {
    "name": "ipython",
    "version": 3
   },
   "file_extension": ".py",
   "mimetype": "text/x-python",
   "name": "python",
   "nbconvert_exporter": "python",
   "pygments_lexer": "ipython3",
   "version": "3.7.7"
  }
 },
 "nbformat": 4,
 "nbformat_minor": 4
}
