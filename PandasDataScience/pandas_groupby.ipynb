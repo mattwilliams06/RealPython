{
 "cells": [
  {
   "cell_type": "code",
   "execution_count": 1,
   "metadata": {},
   "outputs": [],
   "source": [
    "import pandas as pd\n",
    "import numpy as np\n",
    "import requests\n",
    "import os\n",
    "import matplotlib.pyplot as plt"
   ]
  },
  {
   "cell_type": "markdown",
   "metadata": {},
   "source": [
    "# Download the Dataset"
   ]
  },
  {
   "cell_type": "code",
   "execution_count": 3,
   "metadata": {},
   "outputs": [
    {
     "data": {
      "text/plain": [
       "'/Users/mattwilliams/Documents/RealPython/PandasDataScience'"
      ]
     },
     "execution_count": 3,
     "metadata": {},
     "output_type": "execute_result"
    }
   ],
   "source": [
    "os.getcwd()"
   ]
  },
  {
   "cell_type": "code",
   "execution_count": 7,
   "metadata": {},
   "outputs": [],
   "source": [
    "def download_dataset(url, fname, ext):\n",
    "    target_path = f'{fname}.{ext}'\n",
    "    p_dir = os.getcwd()\n",
    "    dataset = requests.get(url)\n",
    "    response = dataset.raise_for_status()\n",
    "    print(f'Response: {response}')\n",
    "    with open(target_path, 'wb') as f:\n",
    "        f.write(dataset.content)\n",
    "    print(f'Download of {target_path} completed successfully at {p_dir}.')"
   ]
  },
  {
   "cell_type": "code",
   "execution_count": 9,
   "metadata": {},
   "outputs": [
    {
     "name": "stdout",
     "output_type": "stream",
     "text": [
      "Response: None\n",
      "Download of legislators-historical.csv completed successfully at /Users/mattwilliams/Documents/RealPython/PandasDataScience.\n"
     ]
    }
   ],
   "source": [
    "url = 'https://theunitedstates.io/congress-legislators/legislators-historical.csv'\n",
    "download_dataset(url, 'legislators-historical', 'csv')"
   ]
  },
  {
   "cell_type": "code",
   "execution_count": 13,
   "metadata": {},
   "outputs": [],
   "source": [
    "dtypes = {\n",
    "    'first_name': 'category',\n",
    "    'gender': 'category',\n",
    "    'type': 'category',\n",
    "    'state': 'category',\n",
    "    'party': 'category'\n",
    "}\n",
    "\n",
    "df = pd.read_csv('legislators-historical.csv',\n",
    "                dtype=dtypes,\n",
    "                usecols=list(dtypes) + ['birthday', 'last_name'],\n",
    "                parse_dates=['birthday'])"
   ]
  },
  {
   "cell_type": "code",
   "execution_count": 14,
   "metadata": {},
   "outputs": [
    {
     "data": {
      "text/html": [
       "<div>\n",
       "<style scoped>\n",
       "    .dataframe tbody tr th:only-of-type {\n",
       "        vertical-align: middle;\n",
       "    }\n",
       "\n",
       "    .dataframe tbody tr th {\n",
       "        vertical-align: top;\n",
       "    }\n",
       "\n",
       "    .dataframe thead th {\n",
       "        text-align: right;\n",
       "    }\n",
       "</style>\n",
       "<table border=\"1\" class=\"dataframe\">\n",
       "  <thead>\n",
       "    <tr style=\"text-align: right;\">\n",
       "      <th></th>\n",
       "      <th>last_name</th>\n",
       "      <th>first_name</th>\n",
       "      <th>birthday</th>\n",
       "      <th>gender</th>\n",
       "      <th>type</th>\n",
       "      <th>state</th>\n",
       "      <th>party</th>\n",
       "    </tr>\n",
       "  </thead>\n",
       "  <tbody>\n",
       "    <tr>\n",
       "      <th>11977</th>\n",
       "      <td>Isakson</td>\n",
       "      <td>John</td>\n",
       "      <td>1944-12-28</td>\n",
       "      <td>M</td>\n",
       "      <td>sen</td>\n",
       "      <td>GA</td>\n",
       "      <td>Republican</td>\n",
       "    </tr>\n",
       "    <tr>\n",
       "      <th>11978</th>\n",
       "      <td>Hunter</td>\n",
       "      <td>Duncan</td>\n",
       "      <td>1976-12-07</td>\n",
       "      <td>M</td>\n",
       "      <td>rep</td>\n",
       "      <td>CA</td>\n",
       "      <td>Republican</td>\n",
       "    </tr>\n",
       "    <tr>\n",
       "      <th>11979</th>\n",
       "      <td>Meadows</td>\n",
       "      <td>Mark</td>\n",
       "      <td>1959-07-28</td>\n",
       "      <td>M</td>\n",
       "      <td>rep</td>\n",
       "      <td>NC</td>\n",
       "      <td>Republican</td>\n",
       "    </tr>\n",
       "    <tr>\n",
       "      <th>11980</th>\n",
       "      <td>Ratcliffe</td>\n",
       "      <td>John</td>\n",
       "      <td>1965-10-20</td>\n",
       "      <td>M</td>\n",
       "      <td>rep</td>\n",
       "      <td>TX</td>\n",
       "      <td>Republican</td>\n",
       "    </tr>\n",
       "    <tr>\n",
       "      <th>11981</th>\n",
       "      <td>Lewis</td>\n",
       "      <td>John</td>\n",
       "      <td>1940-02-21</td>\n",
       "      <td>M</td>\n",
       "      <td>rep</td>\n",
       "      <td>GA</td>\n",
       "      <td>Democrat</td>\n",
       "    </tr>\n",
       "  </tbody>\n",
       "</table>\n",
       "</div>"
      ],
      "text/plain": [
       "       last_name first_name   birthday gender type state       party\n",
       "11977    Isakson       John 1944-12-28      M  sen    GA  Republican\n",
       "11978     Hunter     Duncan 1976-12-07      M  rep    CA  Republican\n",
       "11979    Meadows       Mark 1959-07-28      M  rep    NC  Republican\n",
       "11980  Ratcliffe       John 1965-10-20      M  rep    TX  Republican\n",
       "11981      Lewis       John 1940-02-21      M  rep    GA    Democrat"
      ]
     },
     "execution_count": 14,
     "metadata": {},
     "output_type": "execute_result"
    }
   ],
   "source": [
    "df.tail()"
   ]
  },
  {
   "cell_type": "code",
   "execution_count": 15,
   "metadata": {},
   "outputs": [
    {
     "data": {
      "text/plain": [
       "last_name             object\n",
       "first_name          category\n",
       "birthday      datetime64[ns]\n",
       "gender              category\n",
       "type                category\n",
       "state               category\n",
       "party               category\n",
       "dtype: object"
      ]
     },
     "execution_count": 15,
     "metadata": {},
     "output_type": "execute_result"
    }
   ],
   "source": [
    "df.dtypes"
   ]
  },
  {
   "cell_type": "markdown",
   "metadata": {},
   "source": [
    "# The 'Hello World' of GroupBy\n",
    "\n",
    "What is the count of congressional members, on a state-by-state basis, over the entire history of the dataset?"
   ]
  },
  {
   "cell_type": "code",
   "execution_count": 16,
   "metadata": {},
   "outputs": [
    {
     "data": {
      "text/plain": [
       "state\n",
       "AK      16\n",
       "AL     206\n",
       "AR     117\n",
       "AS       2\n",
       "AZ      48\n",
       "CA     363\n",
       "CO      90\n",
       "CT     240\n",
       "DC       2\n",
       "DE      97\n",
       "DK       9\n",
       "FL     155\n",
       "GA     311\n",
       "GU       4\n",
       "HI      23\n",
       "IA     202\n",
       "ID      59\n",
       "IL     486\n",
       "IN     341\n",
       "KS     141\n",
       "KY     373\n",
       "LA     197\n",
       "MA     426\n",
       "MD     305\n",
       "ME     175\n",
       "MI     294\n",
       "MN     160\n",
       "MO     333\n",
       "MS     155\n",
       "MT      52\n",
       "NC     354\n",
       "ND      44\n",
       "NE     127\n",
       "NH     181\n",
       "NJ     359\n",
       "NM      54\n",
       "NV      56\n",
       "NY    1462\n",
       "OH     674\n",
       "OK      92\n",
       "OL       2\n",
       "OR      89\n",
       "PA    1053\n",
       "PI      13\n",
       "PR      19\n",
       "RI     107\n",
       "SC     251\n",
       "SD      51\n",
       "TN     299\n",
       "TX     257\n",
       "UT      53\n",
       "VA     432\n",
       "VI       4\n",
       "VT     115\n",
       "WA      95\n",
       "WI     197\n",
       "WV     120\n",
       "WY      40\n",
       "Name: last_name, dtype: int64"
      ]
     },
     "execution_count": 16,
     "metadata": {},
     "output_type": "execute_result"
    }
   ],
   "source": [
    "n_by_state = df.groupby('state')['last_name'].count()\n",
    "n_by_state"
   ]
  },
  {
   "cell_type": "markdown",
   "metadata": {},
   "source": [
    "We can actually go even farther than this and group by state and gender."
   ]
  },
  {
   "cell_type": "code",
   "execution_count": 18,
   "metadata": {},
   "outputs": [
    {
     "data": {
      "text/plain": [
       "state  gender\n",
       "AK     F           0\n",
       "       M          16\n",
       "AL     F           3\n",
       "       M         203\n",
       "AR     F           5\n",
       "                ... \n",
       "WI     M         197\n",
       "WV     F           1\n",
       "       M         119\n",
       "WY     F           2\n",
       "       M          38\n",
       "Name: last_name, Length: 116, dtype: int64"
      ]
     },
     "execution_count": 18,
     "metadata": {},
     "output_type": "execute_result"
    }
   ],
   "source": [
    "df.groupby(['state','gender'])['last_name'].count()"
   ]
  },
  {
   "cell_type": "markdown",
   "metadata": {},
   "source": [
    "This is a MultiIndex DataFrame. We can set the keyword ```group_by(as_index=False)``` in order to push the grouped-on column back into a regular column."
   ]
  },
  {
   "cell_type": "code",
   "execution_count": 21,
   "metadata": {},
   "outputs": [
    {
     "data": {
      "text/plain": [
       "MultiIndex([('AK', 'F'),\n",
       "            ('AK', 'M'),\n",
       "            ('AL', 'F'),\n",
       "            ('AL', 'M'),\n",
       "            ('AR', 'F')],\n",
       "           names=['state', 'gender'])"
      ]
     },
     "execution_count": 21,
     "metadata": {},
     "output_type": "execute_result"
    }
   ],
   "source": [
    "n_by_state_gender = df.groupby(['state','gender'])['last_name'].count()\n",
    "n_by_state_gender.index[:5]"
   ]
  },
  {
   "cell_type": "code",
   "execution_count": 20,
   "metadata": {},
   "outputs": [
    {
     "data": {
      "text/html": [
       "<div>\n",
       "<style scoped>\n",
       "    .dataframe tbody tr th:only-of-type {\n",
       "        vertical-align: middle;\n",
       "    }\n",
       "\n",
       "    .dataframe tbody tr th {\n",
       "        vertical-align: top;\n",
       "    }\n",
       "\n",
       "    .dataframe thead th {\n",
       "        text-align: right;\n",
       "    }\n",
       "</style>\n",
       "<table border=\"1\" class=\"dataframe\">\n",
       "  <thead>\n",
       "    <tr style=\"text-align: right;\">\n",
       "      <th></th>\n",
       "      <th>state</th>\n",
       "      <th>gender</th>\n",
       "      <th>last_name</th>\n",
       "    </tr>\n",
       "  </thead>\n",
       "  <tbody>\n",
       "    <tr>\n",
       "      <th>0</th>\n",
       "      <td>AK</td>\n",
       "      <td>F</td>\n",
       "      <td>NaN</td>\n",
       "    </tr>\n",
       "    <tr>\n",
       "      <th>1</th>\n",
       "      <td>AK</td>\n",
       "      <td>M</td>\n",
       "      <td>16.0</td>\n",
       "    </tr>\n",
       "    <tr>\n",
       "      <th>2</th>\n",
       "      <td>AL</td>\n",
       "      <td>F</td>\n",
       "      <td>3.0</td>\n",
       "    </tr>\n",
       "    <tr>\n",
       "      <th>3</th>\n",
       "      <td>AL</td>\n",
       "      <td>M</td>\n",
       "      <td>203.0</td>\n",
       "    </tr>\n",
       "    <tr>\n",
       "      <th>4</th>\n",
       "      <td>AR</td>\n",
       "      <td>F</td>\n",
       "      <td>5.0</td>\n",
       "    </tr>\n",
       "    <tr>\n",
       "      <th>...</th>\n",
       "      <td>...</td>\n",
       "      <td>...</td>\n",
       "      <td>...</td>\n",
       "    </tr>\n",
       "    <tr>\n",
       "      <th>111</th>\n",
       "      <td>WI</td>\n",
       "      <td>M</td>\n",
       "      <td>197.0</td>\n",
       "    </tr>\n",
       "    <tr>\n",
       "      <th>112</th>\n",
       "      <td>WV</td>\n",
       "      <td>F</td>\n",
       "      <td>1.0</td>\n",
       "    </tr>\n",
       "    <tr>\n",
       "      <th>113</th>\n",
       "      <td>WV</td>\n",
       "      <td>M</td>\n",
       "      <td>119.0</td>\n",
       "    </tr>\n",
       "    <tr>\n",
       "      <th>114</th>\n",
       "      <td>WY</td>\n",
       "      <td>F</td>\n",
       "      <td>2.0</td>\n",
       "    </tr>\n",
       "    <tr>\n",
       "      <th>115</th>\n",
       "      <td>WY</td>\n",
       "      <td>M</td>\n",
       "      <td>38.0</td>\n",
       "    </tr>\n",
       "  </tbody>\n",
       "</table>\n",
       "<p>116 rows × 3 columns</p>\n",
       "</div>"
      ],
      "text/plain": [
       "    state gender  last_name\n",
       "0      AK      F        NaN\n",
       "1      AK      M       16.0\n",
       "2      AL      F        3.0\n",
       "3      AL      M      203.0\n",
       "4      AR      F        5.0\n",
       "..    ...    ...        ...\n",
       "111    WI      M      197.0\n",
       "112    WV      F        1.0\n",
       "113    WV      M      119.0\n",
       "114    WY      F        2.0\n",
       "115    WY      M       38.0\n",
       "\n",
       "[116 rows x 3 columns]"
      ]
     },
     "execution_count": 20,
     "metadata": {},
     "output_type": "execute_result"
    }
   ],
   "source": [
    "df.groupby(['state','gender'], as_index=False)['last_name'].count()"
   ]
  },
  {
   "cell_type": "markdown",
   "metadata": {},
   "source": [
    "We now have a DataFrame with three columns and a RangeIndex, versus a MultiIndex and a Series.\n",
    "\n",
    "# How GroupBy Works"
   ]
  },
  {
   "cell_type": "code",
   "execution_count": 22,
   "metadata": {},
   "outputs": [
    {
     "name": "stdout",
     "output_type": "stream",
     "text": [
      "<pandas.core.groupby.generic.DataFrameGroupBy object at 0x7fc63dab3750>\n"
     ]
    }
   ],
   "source": [
    "by_state = df.groupby('state')\n",
    "print(by_state)"
   ]
  },
  {
   "cell_type": "code",
   "execution_count": 23,
   "metadata": {},
   "outputs": [
    {
     "data": {
      "text/plain": [
       "'<pandas.core.groupby.generic.DataFrameGroupBy object at 0x7fc63dab3750>'"
      ]
     },
     "execution_count": 23,
     "metadata": {},
     "output_type": "execute_result"
    }
   ],
   "source": [
    "by_state.__str__()"
   ]
  },
  {
   "cell_type": "markdown",
   "metadata": {},
   "source": [
    "This doesn't give us much information. But, we can iterate over it to try and gain some insight."
   ]
  },
  {
   "cell_type": "code",
   "execution_count": 24,
   "metadata": {},
   "outputs": [
    {
     "name": "stdout",
     "output_type": "stream",
     "text": [
      "First 2 entries for AK\n",
      "------------------------\n",
      "     last_name first_name   birthday gender type state        party\n",
      "6618    Waskey      Frank 1875-04-20      M  rep    AK     Democrat\n",
      "6646      Cale     Thomas 1848-09-17      M  rep    AK  Independent\n",
      "\n",
      "First 2 entries for AL\n",
      "------------------------\n",
      "    last_name first_name   birthday gender type state       party\n",
      "911   Crowell       John 1780-09-18      M  rep    AL  Republican\n",
      "990    Walker       John 1783-08-12      M  sen    AL  Republican\n",
      "\n",
      "First 2 entries for AR\n",
      "------------------------\n",
      "     last_name first_name   birthday gender type state party\n",
      "1000     Bates      James 1788-08-25      M  rep    AR   NaN\n",
      "1278    Conway      Henry 1793-03-18      M  rep    AR   NaN\n",
      "\n",
      "First 2 entries for AS\n",
      "------------------------\n",
      "          last_name first_name   birthday gender type state     party\n",
      "10796         Sunia       Fofó 1937-03-13      M  rep    AS  Democrat\n",
      "11753  Faleomavaega        Eni 1943-08-15      M  rep    AS  Democrat\n",
      "\n",
      "First 2 entries for AZ\n",
      "------------------------\n",
      "     last_name first_name   birthday gender type state       party\n",
      "3673    Poston    Charles 1825-04-20      M  rep    AZ  Republican\n",
      "3724   Goodwin       John 1824-10-18      M  rep    AZ  Republican\n",
      "\n",
      "First 2 entries for CA\n",
      "------------------------\n",
      "     last_name first_name   birthday gender type state        party\n",
      "2649   Gilbert     Edward        NaT      M  rep    CA     Democrat\n",
      "2741    Wright     George 1816-06-04      M  rep    CA  Independent\n",
      "\n",
      "First 2 entries for CO\n",
      "------------------------\n",
      "     last_name first_name   birthday gender type state  \\\n",
      "3613    Bennet      Hiram 1826-09-02      M  rep    CO   \n",
      "3932  Bradford      Allen 1815-07-23      M  rep    CO   \n",
      "\n",
      "                        party  \n",
      "3613  Conservative Republican  \n",
      "3932               Republican  \n",
      "\n",
      "First 2 entries for CT\n",
      "------------------------\n",
      "     last_name first_name   birthday gender type state               party\n",
      "14  Huntington   Benjamin 1736-04-19      M  rep    CT                 NaN\n",
      "16     Johnson    William 1727-10-07      M  sen    CT  Pro-Administration\n",
      "\n",
      "First 2 entries for DC\n",
      "------------------------\n",
      "      last_name first_name   birthday gender type state       party\n",
      "4231    Chipman     Norton 1834-03-07      M  rep    DC  Republican\n",
      "10820  Fauntroy     Walter 1933-02-06      M  rep    DC    Democrat\n",
      "\n",
      "First 2 entries for DE\n",
      "------------------------\n",
      "   last_name first_name   birthday gender type state                party\n",
      "0    Bassett    Richard 1745-04-02      M  sen    DE  Anti-Administration\n",
      "40      Read     George 1733-09-18      M  sen    DE                  NaN\n",
      "\n",
      "First 2 entries for DK\n",
      "------------------------\n",
      "     last_name first_name   birthday gender type state     party\n",
      "3641     Jayne    William 1826-10-08      M  rep    DK       NaN\n",
      "3686      Todd       John 1814-04-04      M  rep    DK  Democrat\n",
      "\n",
      "First 2 entries for FL\n",
      "------------------------\n",
      "      last_name first_name   birthday gender type state party\n",
      "1030  Hernández     Joseph 1788-05-26      M  rep    FL   NaN\n",
      "1089       Call    Richard 1792-10-24      M  rep    FL   NaN\n",
      "\n",
      "First 2 entries for GA\n",
      "------------------------\n",
      "   last_name first_name   birthday gender type state                party\n",
      "8        Few    William 1748-06-08      M  sen    GA  Anti-Administration\n",
      "20   Mathews     George 1739-08-30      M  rep    GA                  NaN\n",
      "\n",
      "First 2 entries for GU\n",
      "------------------------\n",
      "      last_name first_name   birthday gender type state       party\n",
      "10703   Won Pat    Antonio 1908-12-10      M  rep    GU    Democrat\n",
      "10873      Blaz        Ben 1928-02-14      M  rep    GU  Republican\n",
      "\n",
      "First 2 entries for HI\n",
      "------------------------\n",
      "     last_name first_name   birthday gender type state       party\n",
      "6394    Wilcox     Robert 1855-02-15      M  rep    HI         NaN\n",
      "7523   Baldwin      Henry 1871-01-12      M  rep    HI  Republican\n",
      "\n",
      "First 2 entries for IA\n",
      "------------------------\n",
      "     last_name first_name   birthday gender type state     party\n",
      "1930   Chapman    William 1808-08-11      M  rep    IA  Democrat\n",
      "2390  Hastings   Serranus 1813-11-22      M  rep    IA  Democrat\n",
      "\n",
      "First 2 entries for ID\n",
      "------------------------\n",
      "     last_name first_name   birthday gender type state       party\n",
      "3692   Wallace    William 1811-07-19      M  rep    ID  Republican\n",
      "3845  Holbrook     Edward 1836-05-06      M  rep    ID    Democrat\n",
      "\n",
      "First 2 entries for IL\n",
      "------------------------\n",
      "      last_name first_name   birthday gender type state party\n",
      "595        Bond   Shadrack 1773-11-24      M  rep    IL   NaN\n",
      "772  Stephenson   Benjamin        NaT      M  rep    IL   NaN\n",
      "\n",
      "First 2 entries for IN\n",
      "------------------------\n",
      "    last_name first_name   birthday gender type state       party\n",
      "431     Parke   Benjamin 1777-09-22      M  rep    IN         NaN\n",
      "984    Taylor     Waller        NaT      M  sen    IN  Republican\n",
      "\n",
      "First 2 entries for KS\n",
      "------------------------\n",
      "      last_name first_name   birthday gender type state       party\n",
      "3162  Whitfield       John 1818-03-11      M  rep    KS    Democrat\n",
      "3421    Parrott     Marcus 1828-10-27      M  rep    KS  Republican\n",
      "\n",
      "First 2 entries for KY\n",
      "------------------------\n",
      "    last_name   first_name birthday gender type state                party\n",
      "55    Edwards         John      NaT      M  sen    KY  Anti-Administration\n",
      "113   Greenup  Christopher      NaT      M  rep    KY           Republican\n",
      "\n",
      "First 2 entries for LA\n",
      "------------------------\n",
      "     last_name first_name birthday gender type state       party\n",
      "584  Destréhan       Jean      NaT      M  sen    LA     Unknown\n",
      "585   Magruder      Allan      NaT      M  sen    LA  Republican\n",
      "\n",
      "First 2 entries for MA\n",
      "------------------------\n",
      "   last_name first_name   birthday gender type state               party\n",
      "6     Dalton   Tristram 1738-05-28      M  sen    MA  Pro-Administration\n",
      "12     Grout   Jonathan 1737-07-23      M  rep    MA                 NaN\n",
      "\n",
      "First 2 entries for MD\n",
      "------------------------\n",
      "  last_name first_name   birthday gender type state party\n",
      "3   Carroll     Daniel 1730-07-22      M  rep    MD   NaN\n",
      "5    Contee   Benjamin        NaT      M  rep    MD   NaN\n",
      "\n",
      "First 2 entries for ME\n",
      "------------------------\n",
      "     last_name first_name   birthday gender type state       party\n",
      "1018      Dane     Joseph 1778-10-25      M  rep    ME  Federalist\n",
      "1028    Harris       Mark 1779-01-27      M  rep    ME  Republican\n",
      "\n",
      "First 2 entries for MI\n",
      "------------------------\n",
      "     last_name first_name   birthday gender type state party\n",
      "1061    Sibley    Solomon 1769-10-07      M  rep    MI   NaN\n",
      "1132   Richard    Gabriel 1767-10-15      M  rep    MI   NaN\n",
      "\n",
      "First 2 entries for MN\n",
      "------------------------\n",
      "      last_name first_name   birthday gender type state     party\n",
      "2865     Sibley      Henry 1811-02-20      M  rep    MN       NaN\n",
      "3240  Kingsbury    William 1828-06-04      M  rep    MN  Democrat\n",
      "\n",
      "First 2 entries for MO\n",
      "------------------------\n",
      "     last_name first_name   birthday gender type state party\n",
      "627  Hempstead     Edward 1780-06-03      M  rep    MO   NaN\n",
      "712     Easton      Rufus 1774-05-04      M  rep    MO   NaN\n",
      "\n",
      "First 2 entries for MS\n",
      "------------------------\n",
      "    last_name  first_name   birthday gender type state party\n",
      "256    Greene      Thomas 1758-02-26      M  rep    MS   NaN\n",
      "260    Hunter  Narsworthy        NaT      M  rep    MS   NaN\n",
      "\n",
      "First 2 entries for MT\n",
      "------------------------\n",
      "      last_name first_name   birthday gender type state     party\n",
      "3755     McLean     Samuel 1826-08-07      M  rep    MT  Democrat\n",
      "3940  Cavanaugh      James 1823-07-04      M  rep    MT  Democrat\n",
      "\n",
      "First 2 entries for NC\n",
      "------------------------\n",
      "   last_name first_name   birthday gender type state               party\n",
      "13   Hawkins   Benjamin 1754-08-15      M  sen    NC  Pro-Administration\n",
      "17  Johnston     Samuel 1733-12-15      M  sen    NC  Pro-Administration\n",
      "\n",
      "First 2 entries for ND\n",
      "------------------------\n",
      "     last_name first_name   birthday gender type state       party\n",
      "5383     Casey      Lyman 1837-05-06      M  sen    ND  Republican\n",
      "5478    Pierce    Gilbert 1839-01-11      M  sen    ND  Republican\n",
      "\n",
      "First 2 entries for NE\n",
      "------------------------\n",
      "     last_name first_name   birthday gender type state     party\n",
      "2953  Giddings   Napoleon 1816-01-02      M  rep    NE  Democrat\n",
      "3067   Chapman       Bird 1821-08-24      M  rep    NE  Democrat\n",
      "\n",
      "First 2 entries for NH\n",
      "------------------------\n",
      "    last_name first_name   birthday gender type state       party\n",
      "99    Wingate      Paine 1739-05-14      M  rep    NH         NaN\n",
      "120   Langdon       John 1741-06-26      M  sen    NH  Republican\n",
      "\n",
      "First 2 entries for NJ\n",
      "------------------------\n",
      "   last_name first_name   birthday gender type state               party\n",
      "7      Elmer   Jonathan 1745-11-29      M  sen    NJ  Pro-Administration\n",
      "23  Paterson    William 1745-12-24      M  sen    NJ  Pro-Administration\n",
      "\n",
      "First 2 entries for NM\n",
      "------------------------\n",
      "      last_name first_name   birthday gender type state     party\n",
      "2884  Weightman    Richard 1816-12-28      M  rep    NM  Democrat\n",
      "3419      Otero     Miguel 1829-06-21      M  rep    NM       NaN\n",
      "\n",
      "First 2 entries for NV\n",
      "------------------------\n",
      "        last_name first_name   birthday gender type state       party\n",
      "3509  Cradlebaugh       John 1819-02-22      M  rep    NV         NaN\n",
      "3663         Mott     Gordon 1812-10-21      M  rep    NV  Republican\n",
      "\n",
      "First 2 entries for NY\n",
      "------------------------\n",
      "         last_name first_name   birthday gender type state party\n",
      "9            Floyd    William 1734-12-17      M  rep    NY   NaN\n",
      "26  Van Rensselaer   Jeremiah 1738-08-27      M  rep    NY   NaN\n",
      "\n",
      "First 2 entries for OH\n",
      "------------------------\n",
      "    last_name first_name   birthday gender type state       party\n",
      "226  McMillan    William 1764-03-02      M  rep    OH         NaN\n",
      "254   Fearing       Paul 1762-02-28      M  rep    OH  Federalist\n",
      "\n",
      "First 2 entries for OK\n",
      "------------------------\n",
      "     last_name first_name   birthday gender type state        party\n",
      "5600    Harvey      David 1845-03-20      M  rep    OK   Republican\n",
      "6059  Callahan      James 1852-12-19      M  rep    OK  Free Silver\n",
      "\n",
      "First 2 entries for OL\n",
      "------------------------\n",
      "    last_name first_name   birthday gender type state party\n",
      "404     Clark     Daniel        NaT      M  rep    OL   NaN\n",
      "503   Poydras     Julien 1740-04-03      M  rep    OL   NaN\n",
      "\n",
      "First 2 entries for OR\n",
      "------------------------\n",
      "     last_name first_name   birthday gender type state     party\n",
      "2727  Thurston     Samuel 1816-04-15      M  rep    OR  Democrat\n",
      "3397      Lane     Joseph 1801-12-14      M  sen    OR  Democrat\n",
      "\n",
      "First 2 entries for PA\n",
      "------------------------\n",
      "   last_name first_name   birthday gender type state                party\n",
      "4     Clymer     George 1739-03-16      M  rep    PA                  NaN\n",
      "19    Maclay    William 1737-07-20      M  sen    PA  Anti-Administration\n",
      "\n",
      "First 2 entries for PI\n",
      "------------------------\n",
      "             last_name first_name   birthday gender type state party\n",
      "6834            Ocampo      Pablo 1853-01-25      M  rep    PI   NaN\n",
      "6938  Legarda Y Tuason     Benito 1853-09-27      M  rep    PI   NaN\n",
      "\n",
      "First 2 entries for PR\n",
      "------------------------\n",
      "      last_name first_name   birthday gender type state       party\n",
      "6425    Degetau   Federico 1862-12-05      M  rep    PR  Republican\n",
      "6810  Larrinaga      Tulio 1847-01-15      M  rep    PR    Unionist\n",
      "\n",
      "First 2 entries for RI\n",
      "------------------------\n",
      "    last_name first_name   birthday gender type state       party\n",
      "61   Bradford    William 1729-11-04      M  sen    RI  Federalist\n",
      "105    Bourne   Benjamin 1755-09-09      M  rep    RI  Federalist\n",
      "\n",
      "First 2 entries for SC\n",
      "------------------------\n",
      "   last_name first_name   birthday gender type state               party\n",
      "2      Burke    Aedanus 1743-06-16      M  rep    SC                 NaN\n",
      "15     Izard      Ralph        NaT      M  sen    SC  Pro-Administration\n",
      "\n",
      "First 2 entries for SD\n",
      "------------------------\n",
      "     last_name first_name   birthday gender type state       party\n",
      "5422   Gifford      Oscar 1842-10-20      M  rep    SD  Republican\n",
      "5461     Moody     Gideon 1832-10-16      M  sen    SD  Republican\n",
      "\n",
      "First 2 entries for TN\n",
      "------------------------\n",
      "    last_name first_name   birthday gender type state       party\n",
      "141     White      James 1749-06-16      M  rep    TN         NaN\n",
      "142    Blount    William 1749-03-26      M  sen    TN  Republican\n",
      "\n",
      "First 2 entries for TX\n",
      "------------------------\n",
      "     last_name first_name   birthday gender type state     party\n",
      "2567  Pilsbury    Timothy 1789-04-12      M  rep    TX  Democrat\n",
      "2670   Kaufman      David 1813-12-18      M  rep    TX  Democrat\n",
      "\n",
      "First 2 entries for UT\n",
      "------------------------\n",
      "      last_name first_name   birthday gender type state     party\n",
      "3483  Bernhisel       John 1799-07-23      M  rep    UT      Whig\n",
      "3646     Kinney       John 1816-04-02      M  rep    UT  Democrat\n",
      "\n",
      "First 2 entries for VA\n",
      "------------------------\n",
      "   last_name  first_name   birthday gender type state                party\n",
      "1      Bland  Theodorick 1742-03-21      M  rep    VA                  NaN\n",
      "11   Grayson     William        NaT      M  sen    VA  Anti-Administration\n",
      "\n",
      "First 2 entries for VI\n",
      "------------------------\n",
      "      last_name first_name   birthday gender type state       party\n",
      "10495     Evans     Melvin 1917-08-07      M  rep    VI  Republican\n",
      "11087   de Lugo        Ron 1930-08-02      M  rep    VI    Democrat\n",
      "\n",
      "First 2 entries for VT\n",
      "------------------------\n",
      "   last_name first_name   birthday gender type state                party\n",
      "41  Robinson      Moses 1741-03-22      M  sen    VT  Anti-Administration\n",
      "86     Niles  Nathaniel 1741-04-03      M  rep    VT                  NaN\n",
      "\n",
      "First 2 entries for WA\n",
      "------------------------\n",
      "      last_name first_name   birthday gender type state     party\n",
      "2978  Lancaster   Columbia 1803-08-26      M  rep    WA  Democrat\n",
      "3051   Anderson      James 1822-02-16      M  rep    WA  Democrat\n",
      "\n",
      "First 2 entries for WI\n",
      "------------------------\n",
      "     last_name first_name   birthday gender type state     party\n",
      "2409    Martin     Morgan 1805-03-31      M  rep    WI  Democrat\n",
      "2502   Darling      Mason 1801-05-18      M  rep    WI  Democrat\n",
      "\n",
      "First 2 entries for WV\n",
      "------------------------\n",
      "       last_name first_name   birthday gender type state  \\\n",
      "3614       Blair      Jacob 1821-04-11      M  rep    WV   \n",
      "3689  Van Winkle      Peter 1808-09-07      M  sen    WV   \n",
      "\n",
      "                       party  \n",
      "3614  Unconditional Unionist  \n",
      "3689              Republican  \n",
      "\n",
      "First 2 entries for WY\n",
      "------------------------\n",
      "     last_name first_name   birthday gender type state       party\n",
      "4008  Nuckolls    Stephen 1825-08-16      M  rep    WY    Democrat\n",
      "4137     Jones    William 1842-02-20      M  rep    WY  Republican\n",
      "\n"
     ]
    }
   ],
   "source": [
    "for state, frame in by_state:\n",
    "    print(f'First 2 entries for {state}')\n",
    "    print('------------------------')\n",
    "    print(frame.head(2), end='\\n\\n')"
   ]
  },
  {
   "cell_type": "markdown",
   "metadata": {},
   "source": [
    "The ```group_by()``` method first split dataset up by state. ```by_state``` is a dictionary with states as keys."
   ]
  },
  {
   "cell_type": "code",
   "execution_count": 28,
   "metadata": {},
   "outputs": [
    {
     "data": {
      "text/plain": [
       "Int64Index([    4,    19,    21,    27,    38,    57,    69,    76,    84,\n",
       "               88,\n",
       "            ...\n",
       "            11840, 11864, 11873, 11875, 11885, 11889, 11930, 11943, 11957,\n",
       "            11971],\n",
       "           dtype='int64', length=1053)"
      ]
     },
     "execution_count": 28,
     "metadata": {},
     "output_type": "execute_result"
    }
   ],
   "source": [
    "by_state.groups['PA']"
   ]
  },
  {
   "cell_type": "code",
   "execution_count": 29,
   "metadata": {},
   "outputs": [
    {
     "data": {
      "text/html": [
       "<div>\n",
       "<style scoped>\n",
       "    .dataframe tbody tr th:only-of-type {\n",
       "        vertical-align: middle;\n",
       "    }\n",
       "\n",
       "    .dataframe tbody tr th {\n",
       "        vertical-align: top;\n",
       "    }\n",
       "\n",
       "    .dataframe thead th {\n",
       "        text-align: right;\n",
       "    }\n",
       "</style>\n",
       "<table border=\"1\" class=\"dataframe\">\n",
       "  <thead>\n",
       "    <tr style=\"text-align: right;\">\n",
       "      <th></th>\n",
       "      <th>last_name</th>\n",
       "      <th>first_name</th>\n",
       "      <th>birthday</th>\n",
       "      <th>gender</th>\n",
       "      <th>type</th>\n",
       "      <th>state</th>\n",
       "      <th>party</th>\n",
       "    </tr>\n",
       "  </thead>\n",
       "  <tbody>\n",
       "    <tr>\n",
       "      <th>4</th>\n",
       "      <td>Clymer</td>\n",
       "      <td>George</td>\n",
       "      <td>1739-03-16</td>\n",
       "      <td>M</td>\n",
       "      <td>rep</td>\n",
       "      <td>PA</td>\n",
       "      <td>NaN</td>\n",
       "    </tr>\n",
       "    <tr>\n",
       "      <th>19</th>\n",
       "      <td>Maclay</td>\n",
       "      <td>William</td>\n",
       "      <td>1737-07-20</td>\n",
       "      <td>M</td>\n",
       "      <td>sen</td>\n",
       "      <td>PA</td>\n",
       "      <td>Anti-Administration</td>\n",
       "    </tr>\n",
       "    <tr>\n",
       "      <th>21</th>\n",
       "      <td>Morris</td>\n",
       "      <td>Robert</td>\n",
       "      <td>1734-01-20</td>\n",
       "      <td>M</td>\n",
       "      <td>sen</td>\n",
       "      <td>PA</td>\n",
       "      <td>Pro-Administration</td>\n",
       "    </tr>\n",
       "    <tr>\n",
       "      <th>27</th>\n",
       "      <td>Wynkoop</td>\n",
       "      <td>Henry</td>\n",
       "      <td>1737-03-02</td>\n",
       "      <td>M</td>\n",
       "      <td>rep</td>\n",
       "      <td>PA</td>\n",
       "      <td>NaN</td>\n",
       "    </tr>\n",
       "    <tr>\n",
       "      <th>38</th>\n",
       "      <td>Jacobs</td>\n",
       "      <td>Israel</td>\n",
       "      <td>1726-06-09</td>\n",
       "      <td>M</td>\n",
       "      <td>rep</td>\n",
       "      <td>PA</td>\n",
       "      <td>NaN</td>\n",
       "    </tr>\n",
       "    <tr>\n",
       "      <th>...</th>\n",
       "      <td>...</td>\n",
       "      <td>...</td>\n",
       "      <td>...</td>\n",
       "      <td>...</td>\n",
       "      <td>...</td>\n",
       "      <td>...</td>\n",
       "      <td>...</td>\n",
       "    </tr>\n",
       "    <tr>\n",
       "      <th>11889</th>\n",
       "      <td>Brady</td>\n",
       "      <td>Robert</td>\n",
       "      <td>1945-04-07</td>\n",
       "      <td>M</td>\n",
       "      <td>rep</td>\n",
       "      <td>PA</td>\n",
       "      <td>Democrat</td>\n",
       "    </tr>\n",
       "    <tr>\n",
       "      <th>11930</th>\n",
       "      <td>Shuster</td>\n",
       "      <td>Bill</td>\n",
       "      <td>1961-01-10</td>\n",
       "      <td>M</td>\n",
       "      <td>rep</td>\n",
       "      <td>PA</td>\n",
       "      <td>Republican</td>\n",
       "    </tr>\n",
       "    <tr>\n",
       "      <th>11943</th>\n",
       "      <td>Rothfus</td>\n",
       "      <td>Keith</td>\n",
       "      <td>1962-04-25</td>\n",
       "      <td>M</td>\n",
       "      <td>rep</td>\n",
       "      <td>PA</td>\n",
       "      <td>Republican</td>\n",
       "    </tr>\n",
       "    <tr>\n",
       "      <th>11957</th>\n",
       "      <td>Costello</td>\n",
       "      <td>Ryan</td>\n",
       "      <td>1976-09-07</td>\n",
       "      <td>M</td>\n",
       "      <td>rep</td>\n",
       "      <td>PA</td>\n",
       "      <td>Republican</td>\n",
       "    </tr>\n",
       "    <tr>\n",
       "      <th>11971</th>\n",
       "      <td>Marino</td>\n",
       "      <td>Tom</td>\n",
       "      <td>1952-08-15</td>\n",
       "      <td>M</td>\n",
       "      <td>rep</td>\n",
       "      <td>PA</td>\n",
       "      <td>Republican</td>\n",
       "    </tr>\n",
       "  </tbody>\n",
       "</table>\n",
       "<p>1053 rows × 7 columns</p>\n",
       "</div>"
      ],
      "text/plain": [
       "      last_name first_name   birthday gender type state                party\n",
       "4        Clymer     George 1739-03-16      M  rep    PA                  NaN\n",
       "19       Maclay    William 1737-07-20      M  sen    PA  Anti-Administration\n",
       "21       Morris     Robert 1734-01-20      M  sen    PA   Pro-Administration\n",
       "27      Wynkoop      Henry 1737-03-02      M  rep    PA                  NaN\n",
       "38       Jacobs     Israel 1726-06-09      M  rep    PA                  NaN\n",
       "...         ...        ...        ...    ...  ...   ...                  ...\n",
       "11889     Brady     Robert 1945-04-07      M  rep    PA             Democrat\n",
       "11930   Shuster       Bill 1961-01-10      M  rep    PA           Republican\n",
       "11943   Rothfus      Keith 1962-04-25      M  rep    PA           Republican\n",
       "11957  Costello       Ryan 1976-09-07      M  rep    PA           Republican\n",
       "11971    Marino        Tom 1952-08-15      M  rep    PA           Republican\n",
       "\n",
       "[1053 rows x 7 columns]"
      ]
     },
     "execution_count": 29,
     "metadata": {},
     "output_type": "execute_result"
    }
   ],
   "source": [
    "by_state.get_group('PA')"
   ]
  },
  {
   "cell_type": "markdown",
   "metadata": {},
   "source": [
    "How does ```group_by()``` apply the operation. Since the object contains a bunch of mini dataframes, you can iterate through each, which will return the state and the frame."
   ]
  },
  {
   "cell_type": "code",
   "execution_count": 31,
   "metadata": {},
   "outputs": [
    {
     "data": {
      "text/plain": [
       "'AK'"
      ]
     },
     "execution_count": 31,
     "metadata": {},
     "output_type": "execute_result"
    }
   ],
   "source": [
    "state, frame = next(iter(by_state))\n",
    "state"
   ]
  },
  {
   "cell_type": "code",
   "execution_count": 38,
   "metadata": {},
   "outputs": [
    {
     "data": {
      "text/html": [
       "<div>\n",
       "<style scoped>\n",
       "    .dataframe tbody tr th:only-of-type {\n",
       "        vertical-align: middle;\n",
       "    }\n",
       "\n",
       "    .dataframe tbody tr th {\n",
       "        vertical-align: top;\n",
       "    }\n",
       "\n",
       "    .dataframe thead th {\n",
       "        text-align: right;\n",
       "    }\n",
       "</style>\n",
       "<table border=\"1\" class=\"dataframe\">\n",
       "  <thead>\n",
       "    <tr style=\"text-align: right;\">\n",
       "      <th></th>\n",
       "      <th>last_name</th>\n",
       "      <th>first_name</th>\n",
       "      <th>birthday</th>\n",
       "      <th>gender</th>\n",
       "      <th>type</th>\n",
       "      <th>state</th>\n",
       "      <th>party</th>\n",
       "    </tr>\n",
       "  </thead>\n",
       "  <tbody>\n",
       "    <tr>\n",
       "      <th>6618</th>\n",
       "      <td>Waskey</td>\n",
       "      <td>Frank</td>\n",
       "      <td>1875-04-20</td>\n",
       "      <td>M</td>\n",
       "      <td>rep</td>\n",
       "      <td>AK</td>\n",
       "      <td>Democrat</td>\n",
       "    </tr>\n",
       "    <tr>\n",
       "      <th>6646</th>\n",
       "      <td>Cale</td>\n",
       "      <td>Thomas</td>\n",
       "      <td>1848-09-17</td>\n",
       "      <td>M</td>\n",
       "      <td>rep</td>\n",
       "      <td>AK</td>\n",
       "      <td>Independent</td>\n",
       "    </tr>\n",
       "    <tr>\n",
       "      <th>7441</th>\n",
       "      <td>Grigsby</td>\n",
       "      <td>George</td>\n",
       "      <td>1874-12-02</td>\n",
       "      <td>M</td>\n",
       "      <td>rep</td>\n",
       "      <td>AK</td>\n",
       "      <td>NaN</td>\n",
       "    </tr>\n",
       "  </tbody>\n",
       "</table>\n",
       "</div>"
      ],
      "text/plain": [
       "     last_name first_name   birthday gender type state        party\n",
       "6618    Waskey      Frank 1875-04-20      M  rep    AK     Democrat\n",
       "6646      Cale     Thomas 1848-09-17      M  rep    AK  Independent\n",
       "7441   Grigsby     George 1874-12-02      M  rep    AK          NaN"
      ]
     },
     "execution_count": 38,
     "metadata": {},
     "output_type": "execute_result"
    }
   ],
   "source": [
    "frame.head(3)"
   ]
  },
  {
   "cell_type": "code",
   "execution_count": 47,
   "metadata": {},
   "outputs": [
    {
     "data": {
      "text/plain": [
       "'AK'"
      ]
     },
     "execution_count": 47,
     "metadata": {},
     "output_type": "execute_result"
    }
   ],
   "source": [
    "state, frame = next(iter(by_state))\n",
    "state"
   ]
  },
  {
   "cell_type": "code",
   "execution_count": 48,
   "metadata": {},
   "outputs": [
    {
     "data": {
      "text/html": [
       "<div>\n",
       "<style scoped>\n",
       "    .dataframe tbody tr th:only-of-type {\n",
       "        vertical-align: middle;\n",
       "    }\n",
       "\n",
       "    .dataframe tbody tr th {\n",
       "        vertical-align: top;\n",
       "    }\n",
       "\n",
       "    .dataframe thead th {\n",
       "        text-align: right;\n",
       "    }\n",
       "</style>\n",
       "<table border=\"1\" class=\"dataframe\">\n",
       "  <thead>\n",
       "    <tr style=\"text-align: right;\">\n",
       "      <th></th>\n",
       "      <th>last_name</th>\n",
       "      <th>first_name</th>\n",
       "      <th>birthday</th>\n",
       "      <th>gender</th>\n",
       "      <th>type</th>\n",
       "      <th>state</th>\n",
       "      <th>party</th>\n",
       "    </tr>\n",
       "  </thead>\n",
       "  <tbody>\n",
       "    <tr>\n",
       "      <th>6618</th>\n",
       "      <td>Waskey</td>\n",
       "      <td>Frank</td>\n",
       "      <td>1875-04-20</td>\n",
       "      <td>M</td>\n",
       "      <td>rep</td>\n",
       "      <td>AK</td>\n",
       "      <td>Democrat</td>\n",
       "    </tr>\n",
       "    <tr>\n",
       "      <th>6646</th>\n",
       "      <td>Cale</td>\n",
       "      <td>Thomas</td>\n",
       "      <td>1848-09-17</td>\n",
       "      <td>M</td>\n",
       "      <td>rep</td>\n",
       "      <td>AK</td>\n",
       "      <td>Independent</td>\n",
       "    </tr>\n",
       "    <tr>\n",
       "      <th>7441</th>\n",
       "      <td>Grigsby</td>\n",
       "      <td>George</td>\n",
       "      <td>1874-12-02</td>\n",
       "      <td>M</td>\n",
       "      <td>rep</td>\n",
       "      <td>AK</td>\n",
       "      <td>NaN</td>\n",
       "    </tr>\n",
       "  </tbody>\n",
       "</table>\n",
       "</div>"
      ],
      "text/plain": [
       "     last_name first_name   birthday gender type state        party\n",
       "6618    Waskey      Frank 1875-04-20      M  rep    AK     Democrat\n",
       "6646      Cale     Thomas 1848-09-17      M  rep    AK  Independent\n",
       "7441   Grigsby     George 1874-12-02      M  rep    AK          NaN"
      ]
     },
     "execution_count": 48,
     "metadata": {},
     "output_type": "execute_result"
    }
   ],
   "source": [
    "frame.head(3)"
   ]
  },
  {
   "cell_type": "code",
   "execution_count": 65,
   "metadata": {},
   "outputs": [
    {
     "data": {
      "text/plain": [
       "<generator object BaseGrouper.get_iterator at 0x7fc63d8ac650>"
      ]
     },
     "execution_count": 65,
     "metadata": {},
     "output_type": "execute_result"
    }
   ],
   "source": [
    "state_iter = iter(by_state)"
   ]
  },
  {
   "cell_type": "code",
   "execution_count": 66,
   "metadata": {},
   "outputs": [
    {
     "data": {
      "text/plain": [
       "('AK',\n",
       "         last_name first_name   birthday gender type state        party\n",
       " 6618       Waskey      Frank 1875-04-20      M  rep    AK     Democrat\n",
       " 6646         Cale     Thomas 1848-09-17      M  rep    AK  Independent\n",
       " 7441      Grigsby     George 1874-12-02      M  rep    AK          NaN\n",
       " 7500       Sulzer    Charles 1879-02-24      M  rep    AK          NaN\n",
       " 8038   Sutherland     Daniel 1869-04-17      M  rep    AK   Republican\n",
       " 8235   Wickersham      James 1857-08-24      M  rep    AK   Republican\n",
       " 8876       Dimond    Anthony 1881-11-30      M  rep    AK     Democrat\n",
       " 9818     Gruening     Ernest 1887-02-06      M  sen    AK     Democrat\n",
       " 9950       Rivers      Ralph 1903-05-23      M  rep    AK     Democrat\n",
       " 9984     Bartlett     Edward 1904-04-20      M  sen    AK     Democrat\n",
       " 10081     Pollock     Howard 1920-04-11      M  rep    AK   Republican\n",
       " 10107      Begich   Nicholas 1932-04-06      M  rep    AK     Democrat\n",
       " 10324      Gravel    Maurice 1930-05-13      M  sen    AK     Democrat\n",
       " 11260   Murkowski      Frank 1933-03-28      M  sen    AK   Republican\n",
       " 11384     Stevens        Ted 1923-11-18      M  sen    AK   Republican\n",
       " 11732      Begich       Mark 1962-03-30      M  sen    AK     Democrat)"
      ]
     },
     "execution_count": 66,
     "metadata": {},
     "output_type": "execute_result"
    }
   ],
   "source": [
    "next(state_iter)"
   ]
  },
  {
   "cell_type": "code",
   "execution_count": 68,
   "metadata": {},
   "outputs": [],
   "source": [
    "state, frame = next(state_iter)"
   ]
  },
  {
   "cell_type": "code",
   "execution_count": 69,
   "metadata": {},
   "outputs": [
    {
     "data": {
      "text/plain": [
       "'AL'"
      ]
     },
     "execution_count": 69,
     "metadata": {},
     "output_type": "execute_result"
    }
   ],
   "source": [
    "state"
   ]
  },
  {
   "cell_type": "markdown",
   "metadata": {},
   "source": [
    "# Air Quality Dataset"
   ]
  },
  {
   "cell_type": "code",
   "execution_count": 71,
   "metadata": {},
   "outputs": [
    {
     "name": "stdout",
     "output_type": "stream",
     "text": [
      "Response: None\n",
      "Download of air_quality.zip completed successfully at /Users/mattwilliams/Documents/RealPython/PandasDataScience.\n"
     ]
    }
   ],
   "source": [
    "url = 'https://archive.ics.uci.edu/ml/machine-learning-databases/00360/AirQualityUCI.zip'\n",
    "download_dataset(url, 'air_quality', 'zip')"
   ]
  },
  {
   "cell_type": "code",
   "execution_count": 73,
   "metadata": {},
   "outputs": [],
   "source": [
    "import zipfile"
   ]
  },
  {
   "cell_type": "code",
   "execution_count": 74,
   "metadata": {},
   "outputs": [],
   "source": [
    "with zipfile.ZipFile('air_quality.zip') as zipobj:\n",
    "    zipobj.extractall()"
   ]
  },
  {
   "cell_type": "code",
   "execution_count": 119,
   "metadata": {},
   "outputs": [],
   "source": [
    "df = pd.read_csv(\n",
    "    \"AirQualityUCI.csv\",\n",
    "    header=0,\n",
    "    sep = ';',\n",
    "    decimal = ',',\n",
    "    parse_dates=[[\"Date\", \"Time\"]],\n",
    "    na_values=[-200],\n",
    "    usecols=[\"Date\", \"Time\", \"CO(GT)\", \"T\", \"RH\", \"AH\"],\n",
    "    skip_blank_lines=True\n",
    ").rename(\n",
    "    columns={\n",
    "        \"CO(GT)\": \"co\",\n",
    "        \"Date_Time\": \"tstamp\",\n",
    "        \"T\": \"temp_c\",\n",
    "        \"RH\": \"rel_hum\",\n",
    "        \"AH\": \"abs_hum\",\n",
    "    }\n",
    ")"
   ]
  },
  {
   "cell_type": "code",
   "execution_count": 120,
   "metadata": {},
   "outputs": [],
   "source": [
    "df.dropna(inplace=True, axis=0)"
   ]
  },
  {
   "cell_type": "code",
   "execution_count": 121,
   "metadata": {},
   "outputs": [
    {
     "data": {
      "text/plain": [
       "tstamp      object\n",
       "co         float64\n",
       "temp_c     float64\n",
       "rel_hum    float64\n",
       "abs_hum    float64\n",
       "dtype: object"
      ]
     },
     "execution_count": 121,
     "metadata": {},
     "output_type": "execute_result"
    }
   ],
   "source": [
    "df.dtypes"
   ]
  },
  {
   "cell_type": "code",
   "execution_count": 140,
   "metadata": {},
   "outputs": [],
   "source": [
    "df['tstamp'] = df['tstamp'].replace('\\.',':', regex=True)"
   ]
  },
  {
   "cell_type": "code",
   "execution_count": 141,
   "metadata": {},
   "outputs": [],
   "source": [
    "df['tstamp'] = pd.to_datetime(df['tstamp'])"
   ]
  },
  {
   "cell_type": "code",
   "execution_count": 144,
   "metadata": {},
   "outputs": [],
   "source": [
    "df = df.set_index('tstamp')"
   ]
  },
  {
   "cell_type": "code",
   "execution_count": 146,
   "metadata": {},
   "outputs": [
    {
     "data": {
      "text/html": [
       "<div>\n",
       "<style scoped>\n",
       "    .dataframe tbody tr th:only-of-type {\n",
       "        vertical-align: middle;\n",
       "    }\n",
       "\n",
       "    .dataframe tbody tr th {\n",
       "        vertical-align: top;\n",
       "    }\n",
       "\n",
       "    .dataframe thead th {\n",
       "        text-align: right;\n",
       "    }\n",
       "</style>\n",
       "<table border=\"1\" class=\"dataframe\">\n",
       "  <thead>\n",
       "    <tr style=\"text-align: right;\">\n",
       "      <th></th>\n",
       "      <th>co</th>\n",
       "      <th>temp_c</th>\n",
       "      <th>rel_hum</th>\n",
       "      <th>abs_hum</th>\n",
       "    </tr>\n",
       "    <tr>\n",
       "      <th>tstamp</th>\n",
       "      <th></th>\n",
       "      <th></th>\n",
       "      <th></th>\n",
       "      <th></th>\n",
       "    </tr>\n",
       "  </thead>\n",
       "  <tbody>\n",
       "    <tr>\n",
       "      <th>2004-10-03 18:00:00</th>\n",
       "      <td>2.6</td>\n",
       "      <td>13.6</td>\n",
       "      <td>48.9</td>\n",
       "      <td>0.7578</td>\n",
       "    </tr>\n",
       "    <tr>\n",
       "      <th>2004-10-03 19:00:00</th>\n",
       "      <td>2.0</td>\n",
       "      <td>13.3</td>\n",
       "      <td>47.7</td>\n",
       "      <td>0.7255</td>\n",
       "    </tr>\n",
       "    <tr>\n",
       "      <th>2004-10-03 20:00:00</th>\n",
       "      <td>2.2</td>\n",
       "      <td>11.9</td>\n",
       "      <td>54.0</td>\n",
       "      <td>0.7502</td>\n",
       "    </tr>\n",
       "    <tr>\n",
       "      <th>2004-10-03 21:00:00</th>\n",
       "      <td>2.2</td>\n",
       "      <td>11.0</td>\n",
       "      <td>60.0</td>\n",
       "      <td>0.7867</td>\n",
       "    </tr>\n",
       "    <tr>\n",
       "      <th>2004-10-03 22:00:00</th>\n",
       "      <td>1.6</td>\n",
       "      <td>11.2</td>\n",
       "      <td>59.6</td>\n",
       "      <td>0.7888</td>\n",
       "    </tr>\n",
       "  </tbody>\n",
       "</table>\n",
       "</div>"
      ],
      "text/plain": [
       "                      co  temp_c  rel_hum  abs_hum\n",
       "tstamp                                            \n",
       "2004-10-03 18:00:00  2.6    13.6     48.9   0.7578\n",
       "2004-10-03 19:00:00  2.0    13.3     47.7   0.7255\n",
       "2004-10-03 20:00:00  2.2    11.9     54.0   0.7502\n",
       "2004-10-03 21:00:00  2.2    11.0     60.0   0.7867\n",
       "2004-10-03 22:00:00  1.6    11.2     59.6   0.7888"
      ]
     },
     "execution_count": 146,
     "metadata": {},
     "output_type": "execute_result"
    }
   ],
   "source": [
    "df.head()"
   ]
  },
  {
   "cell_type": "code",
   "execution_count": 147,
   "metadata": {},
   "outputs": [
    {
     "data": {
      "text/plain": [
       "Timestamp('2004-01-04 00:00:00')"
      ]
     },
     "execution_count": 147,
     "metadata": {},
     "output_type": "execute_result"
    }
   ],
   "source": [
    "df.index.min()"
   ]
  },
  {
   "cell_type": "code",
   "execution_count": 148,
   "metadata": {},
   "outputs": [
    {
     "data": {
      "text/plain": [
       "Timestamp('2005-12-03 23:00:00')"
      ]
     },
     "execution_count": 148,
     "metadata": {},
     "output_type": "execute_result"
    }
   ],
   "source": [
    "df.index.max()"
   ]
  },
  {
   "cell_type": "markdown",
   "metadata": {},
   "source": [
    "## Group on Derived Arrays"
   ]
  },
  {
   "cell_type": "code",
   "execution_count": 150,
   "metadata": {},
   "outputs": [],
   "source": [
    "day_names = df.index.day_name()"
   ]
  },
  {
   "cell_type": "code",
   "execution_count": 152,
   "metadata": {},
   "outputs": [
    {
     "data": {
      "text/plain": [
       "Index(['Sunday', 'Sunday', 'Sunday', 'Sunday', 'Sunday', 'Sunday', 'Wednesday',\n",
       "       'Wednesday', 'Wednesday', 'Wednesday'],\n",
       "      dtype='object', name='tstamp')"
      ]
     },
     "execution_count": 152,
     "metadata": {},
     "output_type": "execute_result"
    }
   ],
   "source": [
    "day_names[:10]"
   ]
  },
  {
   "cell_type": "code",
   "execution_count": 153,
   "metadata": {},
   "outputs": [
    {
     "data": {
      "text/plain": [
       "tstamp\n",
       "Friday       2.427715\n",
       "Monday       2.068280\n",
       "Saturday     1.948936\n",
       "Sunday       1.644991\n",
       "Thursday     2.238169\n",
       "Tuesday      2.302899\n",
       "Wednesday    2.327192\n",
       "Name: co, dtype: float64"
      ]
     },
     "execution_count": 153,
     "metadata": {},
     "output_type": "execute_result"
    }
   ],
   "source": [
    "df.groupby(day_names)['co'].mean()"
   ]
  },
  {
   "cell_type": "code",
   "execution_count": 154,
   "metadata": {},
   "outputs": [],
   "source": [
    "hr = df.index.hour"
   ]
  },
  {
   "cell_type": "code",
   "execution_count": 155,
   "metadata": {},
   "outputs": [
    {
     "data": {
      "text/plain": [
       "dow        hr\n",
       "Friday     0     1.815217\n",
       "           1     1.448889\n",
       "           2     1.071111\n",
       "           3     0.848889\n",
       "           4     0.732258\n",
       "                   ...   \n",
       "Wednesday  19    4.422222\n",
       "           20    3.962222\n",
       "           21    2.797826\n",
       "           22    2.097826\n",
       "           23    1.944444\n",
       "Name: co, Length: 168, dtype: float64"
      ]
     },
     "execution_count": 155,
     "metadata": {},
     "output_type": "execute_result"
    }
   ],
   "source": [
    "df.groupby([day_names, hr])['co'].mean().rename_axis(['dow', 'hr'])"
   ]
  },
  {
   "cell_type": "code",
   "execution_count": 156,
   "metadata": {},
   "outputs": [],
   "source": [
    "bins = pd.cut(df['temp_c'], bins=3, labels=('cool', 'warm', 'hot'))"
   ]
  },
  {
   "cell_type": "code",
   "execution_count": 157,
   "metadata": {},
   "outputs": [
    {
     "data": {
      "text/html": [
       "<div>\n",
       "<style scoped>\n",
       "    .dataframe tbody tr th:only-of-type {\n",
       "        vertical-align: middle;\n",
       "    }\n",
       "\n",
       "    .dataframe tbody tr th {\n",
       "        vertical-align: top;\n",
       "    }\n",
       "\n",
       "    .dataframe thead tr th {\n",
       "        text-align: left;\n",
       "    }\n",
       "\n",
       "    .dataframe thead tr:last-of-type th {\n",
       "        text-align: right;\n",
       "    }\n",
       "</style>\n",
       "<table border=\"1\" class=\"dataframe\">\n",
       "  <thead>\n",
       "    <tr>\n",
       "      <th></th>\n",
       "      <th colspan=\"2\" halign=\"left\">rel_hum</th>\n",
       "      <th colspan=\"2\" halign=\"left\">abs_hum</th>\n",
       "    </tr>\n",
       "    <tr>\n",
       "      <th></th>\n",
       "      <th>mean</th>\n",
       "      <th>median</th>\n",
       "      <th>mean</th>\n",
       "      <th>median</th>\n",
       "    </tr>\n",
       "    <tr>\n",
       "      <th>temp_c</th>\n",
       "      <th></th>\n",
       "      <th></th>\n",
       "      <th></th>\n",
       "      <th></th>\n",
       "    </tr>\n",
       "  </thead>\n",
       "  <tbody>\n",
       "    <tr>\n",
       "      <th>cool</th>\n",
       "      <td>57.450057</td>\n",
       "      <td>58.9</td>\n",
       "      <td>0.662018</td>\n",
       "      <td>0.6523</td>\n",
       "    </tr>\n",
       "    <tr>\n",
       "      <th>warm</th>\n",
       "      <td>48.444528</td>\n",
       "      <td>48.3</td>\n",
       "      <td>1.151161</td>\n",
       "      <td>1.1174</td>\n",
       "    </tr>\n",
       "    <tr>\n",
       "      <th>hot</th>\n",
       "      <td>24.814408</td>\n",
       "      <td>23.7</td>\n",
       "      <td>1.284418</td>\n",
       "      <td>1.2515</td>\n",
       "    </tr>\n",
       "  </tbody>\n",
       "</table>\n",
       "</div>"
      ],
      "text/plain": [
       "          rel_hum          abs_hum        \n",
       "             mean median      mean  median\n",
       "temp_c                                    \n",
       "cool    57.450057   58.9  0.662018  0.6523\n",
       "warm    48.444528   48.3  1.151161  1.1174\n",
       "hot     24.814408   23.7  1.284418  1.2515"
      ]
     },
     "execution_count": 157,
     "metadata": {},
     "output_type": "execute_result"
    }
   ],
   "source": [
    "df[['rel_hum', 'abs_hum']].groupby(bins).agg(['mean', 'median'])"
   ]
  },
  {
   "cell_type": "code",
   "execution_count": 158,
   "metadata": {},
   "outputs": [
    {
     "data": {
      "text/plain": [
       "pandas.core.series.Series"
      ]
     },
     "execution_count": 158,
     "metadata": {},
     "output_type": "execute_result"
    }
   ],
   "source": [
    "type(bins)"
   ]
  },
  {
   "cell_type": "code",
   "execution_count": 159,
   "metadata": {},
   "outputs": [
    {
     "data": {
      "text/plain": [
       "tstamp\n",
       "2004-10-03 18:00:00    cool\n",
       "2004-10-03 19:00:00    cool\n",
       "2004-10-03 20:00:00    cool\n",
       "2004-10-03 21:00:00    cool\n",
       "2004-10-03 22:00:00    cool\n",
       "Name: temp_c, dtype: category\n",
       "Categories (3, object): [cool < warm < hot]"
      ]
     },
     "execution_count": 159,
     "metadata": {},
     "output_type": "execute_result"
    }
   ],
   "source": [
    "bins.head()"
   ]
  },
  {
   "cell_type": "markdown",
   "metadata": {},
   "source": [
    "## Resampling\n",
    "\n",
    "If we wanted to aggregate by quarter, we would use ```groupby``` to accomplish this:"
   ]
  },
  {
   "cell_type": "code",
   "execution_count": 160,
   "metadata": {},
   "outputs": [
    {
     "data": {
      "text/html": [
       "<div>\n",
       "<style scoped>\n",
       "    .dataframe tbody tr th:only-of-type {\n",
       "        vertical-align: middle;\n",
       "    }\n",
       "\n",
       "    .dataframe tbody tr th {\n",
       "        vertical-align: top;\n",
       "    }\n",
       "\n",
       "    .dataframe thead th {\n",
       "        text-align: right;\n",
       "    }\n",
       "</style>\n",
       "<table border=\"1\" class=\"dataframe\">\n",
       "  <thead>\n",
       "    <tr style=\"text-align: right;\">\n",
       "      <th></th>\n",
       "      <th></th>\n",
       "      <th>max</th>\n",
       "      <th>min</th>\n",
       "    </tr>\n",
       "    <tr>\n",
       "      <th>year</th>\n",
       "      <th>quarter</th>\n",
       "      <th></th>\n",
       "      <th></th>\n",
       "    </tr>\n",
       "  </thead>\n",
       "  <tbody>\n",
       "    <tr>\n",
       "      <th rowspan=\"4\" valign=\"top\">2004</th>\n",
       "      <th>1</th>\n",
       "      <td>9.4</td>\n",
       "      <td>0.1</td>\n",
       "    </tr>\n",
       "    <tr>\n",
       "      <th>2</th>\n",
       "      <td>8.7</td>\n",
       "      <td>0.1</td>\n",
       "    </tr>\n",
       "    <tr>\n",
       "      <th>3</th>\n",
       "      <td>7.5</td>\n",
       "      <td>0.1</td>\n",
       "    </tr>\n",
       "    <tr>\n",
       "      <th>4</th>\n",
       "      <td>11.9</td>\n",
       "      <td>0.1</td>\n",
       "    </tr>\n",
       "    <tr>\n",
       "      <th rowspan=\"4\" valign=\"top\">2005</th>\n",
       "      <th>1</th>\n",
       "      <td>8.7</td>\n",
       "      <td>0.1</td>\n",
       "    </tr>\n",
       "    <tr>\n",
       "      <th>2</th>\n",
       "      <td>6.1</td>\n",
       "      <td>0.4</td>\n",
       "    </tr>\n",
       "    <tr>\n",
       "      <th>3</th>\n",
       "      <td>6.0</td>\n",
       "      <td>0.4</td>\n",
       "    </tr>\n",
       "    <tr>\n",
       "      <th>4</th>\n",
       "      <td>5.9</td>\n",
       "      <td>0.1</td>\n",
       "    </tr>\n",
       "  </tbody>\n",
       "</table>\n",
       "</div>"
      ],
      "text/plain": [
       "               max  min\n",
       "year quarter           \n",
       "2004 1         9.4  0.1\n",
       "     2         8.7  0.1\n",
       "     3         7.5  0.1\n",
       "     4        11.9  0.1\n",
       "2005 1         8.7  0.1\n",
       "     2         6.1  0.4\n",
       "     3         6.0  0.4\n",
       "     4         5.9  0.1"
      ]
     },
     "execution_count": 160,
     "metadata": {},
     "output_type": "execute_result"
    }
   ],
   "source": [
    "df.groupby([df.index.year, df.index.quarter])['co'].agg(['max','min']).rename_axis(['year', 'quarter'])"
   ]
  },
  {
   "cell_type": "markdown",
   "metadata": {},
   "source": [
    "Another way to do this is by _resampling_."
   ]
  },
  {
   "cell_type": "code",
   "execution_count": 161,
   "metadata": {},
   "outputs": [
    {
     "data": {
      "text/html": [
       "<div>\n",
       "<style scoped>\n",
       "    .dataframe tbody tr th:only-of-type {\n",
       "        vertical-align: middle;\n",
       "    }\n",
       "\n",
       "    .dataframe tbody tr th {\n",
       "        vertical-align: top;\n",
       "    }\n",
       "\n",
       "    .dataframe thead th {\n",
       "        text-align: right;\n",
       "    }\n",
       "</style>\n",
       "<table border=\"1\" class=\"dataframe\">\n",
       "  <thead>\n",
       "    <tr style=\"text-align: right;\">\n",
       "      <th></th>\n",
       "      <th>max</th>\n",
       "      <th>min</th>\n",
       "    </tr>\n",
       "    <tr>\n",
       "      <th>tstamp</th>\n",
       "      <th></th>\n",
       "      <th></th>\n",
       "    </tr>\n",
       "  </thead>\n",
       "  <tbody>\n",
       "    <tr>\n",
       "      <th>2004-03-31</th>\n",
       "      <td>9.4</td>\n",
       "      <td>0.1</td>\n",
       "    </tr>\n",
       "    <tr>\n",
       "      <th>2004-06-30</th>\n",
       "      <td>8.7</td>\n",
       "      <td>0.1</td>\n",
       "    </tr>\n",
       "    <tr>\n",
       "      <th>2004-09-30</th>\n",
       "      <td>7.5</td>\n",
       "      <td>0.1</td>\n",
       "    </tr>\n",
       "    <tr>\n",
       "      <th>2004-12-31</th>\n",
       "      <td>11.9</td>\n",
       "      <td>0.1</td>\n",
       "    </tr>\n",
       "    <tr>\n",
       "      <th>2005-03-31</th>\n",
       "      <td>8.7</td>\n",
       "      <td>0.1</td>\n",
       "    </tr>\n",
       "    <tr>\n",
       "      <th>2005-06-30</th>\n",
       "      <td>6.1</td>\n",
       "      <td>0.4</td>\n",
       "    </tr>\n",
       "    <tr>\n",
       "      <th>2005-09-30</th>\n",
       "      <td>6.0</td>\n",
       "      <td>0.4</td>\n",
       "    </tr>\n",
       "    <tr>\n",
       "      <th>2005-12-31</th>\n",
       "      <td>5.9</td>\n",
       "      <td>0.1</td>\n",
       "    </tr>\n",
       "  </tbody>\n",
       "</table>\n",
       "</div>"
      ],
      "text/plain": [
       "             max  min\n",
       "tstamp               \n",
       "2004-03-31   9.4  0.1\n",
       "2004-06-30   8.7  0.1\n",
       "2004-09-30   7.5  0.1\n",
       "2004-12-31  11.9  0.1\n",
       "2005-03-31   8.7  0.1\n",
       "2005-06-30   6.1  0.4\n",
       "2005-09-30   6.0  0.4\n",
       "2005-12-31   5.9  0.1"
      ]
     },
     "execution_count": 161,
     "metadata": {},
     "output_type": "execute_result"
    }
   ],
   "source": [
    "df.resample('Q')['co'].agg(['max','min'])"
   ]
  },
  {
   "cell_type": "code",
   "execution_count": null,
   "metadata": {},
   "outputs": [],
   "source": []
  },
  {
   "cell_type": "code",
   "execution_count": null,
   "metadata": {},
   "outputs": [],
   "source": []
  }
 ],
 "metadata": {
  "kernelspec": {
   "display_name": "Python 3",
   "language": "python",
   "name": "python3"
  },
  "language_info": {
   "codemirror_mode": {
    "name": "ipython",
    "version": 3
   },
   "file_extension": ".py",
   "mimetype": "text/x-python",
   "name": "python",
   "nbconvert_exporter": "python",
   "pygments_lexer": "ipython3",
   "version": "3.7.7"
  }
 },
 "nbformat": 4,
 "nbformat_minor": 4
}
